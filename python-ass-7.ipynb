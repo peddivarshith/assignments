{
 "cells": [
  {
   "cell_type": "raw",
   "metadata": {},
   "source": [
    "1.Write a function so that the columns of the output matrix are powers of the input\n",
    "vector.\n",
    "The order of the powers is determined by the increasing boolean argument. Specifically, when\n",
    "increasing is False, the i-th output column is the input vector raised element-wise to the power\n",
    "of N - i - 1.\n",
    "\n",
    "HINT: Such a matrix with a geometric progression in each row is named for Alexandre-\n",
    "Theophile Vandermonde."
   ]
  },
  {
   "cell_type": "code",
   "execution_count": 1,
   "metadata": {},
   "outputs": [],
   "source": [
    "import numpy as np"
   ]
  },
  {
   "cell_type": "code",
   "execution_count": 2,
   "metadata": {},
   "outputs": [],
   "source": [
    "def Alexander_Theophile(vector,n,increasing=False):#Default is False for N-i-1\n",
    "    if(increasing):\n",
    "        return np.array([num**i for num in vector for i in range(n)]).reshape(len(vector),n)\n",
    "    else:\n",
    "        return np.array([num**(n-i-1) for num in vector for i in range(n)]).reshape(len(vector),n)\n",
    "    "
   ]
  },
  {
   "cell_type": "code",
   "execution_count": 3,
   "metadata": {},
   "outputs": [
    {
     "name": "stdout",
     "output_type": "stream",
     "text": [
      "Enter the Elements: 1 2 3 4 5\n"
     ]
    },
    {
     "data": {
      "text/plain": [
       "array([[  1,   1,   1,   1,   1],\n",
       "       [ 16,   8,   4,   2,   1],\n",
       "       [ 81,  27,   9,   3,   1],\n",
       "       [256,  64,  16,   4,   1],\n",
       "       [625, 125,  25,   5,   1]])"
      ]
     },
     "execution_count": 3,
     "metadata": {},
     "output_type": "execute_result"
    }
   ],
   "source": [
    "vector=list(map(int,input(\"Enter the Elements: \").split()))\n",
    "size=len(vector)\n",
    "fun=Alexander_Theophile(vector,size,False)\n",
    "fun"
   ]
  },
  {
   "cell_type": "code",
   "execution_count": 4,
   "metadata": {},
   "outputs": [
    {
     "name": "stdout",
     "output_type": "stream",
     "text": [
      "Enter the Elements: 1 2 3 4 5\n"
     ]
    },
    {
     "data": {
      "text/plain": [
       "array([[  1,   1,   1,   1,   1],\n",
       "       [  1,   2,   4,   8,  16],\n",
       "       [  1,   3,   9,  27,  81],\n",
       "       [  1,   4,  16,  64, 256],\n",
       "       [  1,   5,  25, 125, 625]])"
      ]
     },
     "execution_count": 4,
     "metadata": {},
     "output_type": "execute_result"
    }
   ],
   "source": [
    "vector=list(map(int,input(\"Enter the Elements: \").split()))\n",
    "size=len(vector)\n",
    "fun=Alexander_Theophile(vector,size,True)\n",
    "fun"
   ]
  },
  {
   "cell_type": "raw",
   "metadata": {},
   "source": [
    "2.Given a sequence of n values x1, x2, ..., xn and a window size k>0, the k-th moving average of\n",
    "the given sequence is defined as follows:\n",
    "The moving average sequence has n-k+1 elements as shown below.\n",
    "The moving averages with k=4 of a ten-value sequence (n=10) is shown below\n",
    "i 1 2 3 4 5 6 7 8 9 10\n",
    "===== == == == == == == == == == ==\n",
    "Input 10 20 30 40 50 60 70 80 90 100\n",
    "y1 25 = (10+20+30+40)/4\n",
    "y2 35 = (20+30+40+50)/4\n",
    "y3 45 = (30+40+50+60)/4\n",
    "y4 55 = (40+50+60+70)/4\n",
    "y5 65 = (50+60+70+80)/4\n",
    "y6 75 = (60+70+80+90)/4\n",
    "y7 85 = (70+80+90+100)/4\n",
    "Thus, the moving average sequence has n-k+1=10-4+1=7 values."
   ]
  },
  {
   "cell_type": "raw",
   "metadata": {},
   "source": [
    "Sample input [3, 5, 7, 2, 8, 10, 11, 65, 72, 81, 99, 100, 150] and window of 3."
   ]
  },
  {
   "cell_type": "code",
   "execution_count": 10,
   "metadata": {},
   "outputs": [],
   "source": [
    "def window_slicing():\n",
    "    elements=list(map(int,input(\"Enter the elemenets: \").split()))\n",
    "    elements.insert(0,0)\n",
    "    elements=np.array(elements)\n",
    "    k=int(input(\"Enter Window Size: \"))\n",
    "    size=elements.size\n",
    "    for i in range(1,size):\n",
    "        elements[i]+=elements[i-1]\n",
    "    for i in range(k,size):\n",
    "        print(\"window{0} average is: {1:0.2f}\".format(i-k+1,((elements[i]-elements[i-k])/k)))\n",
    "    "
   ]
  },
  {
   "cell_type": "code",
   "execution_count": 12,
   "metadata": {},
   "outputs": [
    {
     "name": "stdout",
     "output_type": "stream",
     "text": [
      "Enter the elemenets: 3 5 7 2 8 10 11 65 72 81 99 100 150\n",
      "Enter Window Size: 3\n",
      "window1 average is: 5.00\n",
      "window2 average is: 4.67\n",
      "window3 average is: 5.67\n",
      "window4 average is: 6.67\n",
      "window5 average is: 9.67\n",
      "window6 average is: 28.67\n",
      "window7 average is: 49.33\n",
      "window8 average is: 72.67\n",
      "window9 average is: 84.00\n",
      "window10 average is: 93.33\n",
      "window11 average is: 116.33\n"
     ]
    }
   ],
   "source": [
    "window_slicing()"
   ]
  },
  {
   "cell_type": "code",
   "execution_count": null,
   "metadata": {},
   "outputs": [],
   "source": []
  }
 ],
 "metadata": {
  "kernelspec": {
   "display_name": "Python 3",
   "language": "python",
   "name": "python3"
  },
  "language_info": {
   "codemirror_mode": {
    "name": "ipython",
    "version": 3
   },
   "file_extension": ".py",
   "mimetype": "text/x-python",
   "name": "python",
   "nbconvert_exporter": "python",
   "pygments_lexer": "ipython3",
   "version": "3.8.3"
  }
 },
 "nbformat": 4,
 "nbformat_minor": 4
}
