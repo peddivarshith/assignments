{
 "cells": [
  {
   "cell_type": "raw",
   "metadata": {},
   "source": [
    "1.1 Write a Python Program(with class concepts) to find the area of the triangle using the below\n",
    "formula.\n",
    "area = (s*(s-a)*(s-b)*(s-c)) ** 0.5\n",
    "Function to take the length of the sides of triangle from user should be defined in the parent\n",
    "class and function to calculate the area should be defined in subclass."
   ]
  },
  {
   "cell_type": "code",
   "execution_count": 1,
   "metadata": {},
   "outputs": [
    {
     "name": "stdout",
     "output_type": "stream",
     "text": [
      "Enter side 1 length: 3\n",
      "Enter side 2 length: 4\n",
      "Enter side 3 length: 5\n",
      "The area of triangle is: 6.0\n"
     ]
    }
   ],
   "source": [
    "class user(object):\n",
    "    a=0\n",
    "    b=0\n",
    "    c=0\n",
    "    def __init__(self,a,b,c):\n",
    "        self.a=a\n",
    "        self.b=b\n",
    "        self.c=c\n",
    "class sub_class(user):\n",
    "    def __init__(self,a,b,c):\n",
    "        super().__init__(a,b,c)\n",
    "    def area(self):\n",
    "        self.s=(self.a+self.b+self.c)/2\n",
    "        return \"The area of triangle is: \"+str((self.s*(self.s-self.a)*(self.s-self.b)*(self.s-self.c))**0.5)\n",
    "        \n",
    "        \n",
    "a=int(input(\"Enter side 1 length: \"))\n",
    "b=int(input(\"Enter side 2 length: \"))\n",
    "c=int(input(\"Enter side 3 length: \"))\n",
    "t=sub_class(a,b,c)\n",
    "print(t.area())"
   ]
  },
  {
   "cell_type": "raw",
   "metadata": {},
   "source": [
    "1.2 Write a function filter_long_words() that takes a list of words and an integer n and returns\n",
    "the list of words that are longer than n."
   ]
  },
  {
   "cell_type": "code",
   "execution_count": 2,
   "metadata": {},
   "outputs": [
    {
     "name": "stdout",
     "output_type": "stream",
     "text": [
      "Enter Words:This is a program to filter all the words for a given size\n",
      "Enter the length of the string : 3\n",
      "After filtering the words we get for the given length 3 is:  ['This', 'program', 'filter', 'words', 'given', 'size']\n"
     ]
    }
   ],
   "source": [
    "def filter_long_words(words,n):\n",
    "    fil=[]\n",
    "    for i in words:\n",
    "        if len(i)>n:\n",
    "            fil.append(i)\n",
    "    return fil\n",
    "words=list(map(str,input(\"Enter Words:\").split()))\n",
    "n=int(input(\"Enter the length of the string : \"))\n",
    "print(\"After filtering the words we get for the given length %d is: \"%(n),filter_long_words(words,n))\n",
    "    "
   ]
  },
  {
   "cell_type": "raw",
   "metadata": {},
   "source": [
    "2.1 Write a Python program using function concept that maps list of words into a list of integers\n",
    "representing the lengths of the corresponding words.\n",
    "Hint: If a list [ ab,cde,erty] is passed on to the python function output should come as [2,3,4]\n",
    "Here 2,3 and 4 are the lengths of the words in the list."
   ]
  },
  {
   "cell_type": "code",
   "execution_count": 4,
   "metadata": {},
   "outputs": [
    {
     "name": "stdout",
     "output_type": "stream",
     "text": [
      "Enter words: this is a program to get all lengths\n"
     ]
    },
    {
     "data": {
      "text/plain": [
       "[4, 2, 1, 7, 2, 3, 3, 7]"
      ]
     },
     "execution_count": 4,
     "metadata": {},
     "output_type": "execute_result"
    }
   ],
   "source": [
    "words=list(map(str,input(\"Enter words: \").split()))\n",
    "output=list(map(lambda x: len(x),words))\n",
    "output"
   ]
  },
  {
   "cell_type": "raw",
   "metadata": {},
   "source": [
    "2.2 Write a Python function which takes a character (i.e. a string of length 1) and returns True if\n",
    "it is a vowel, False otherwise."
   ]
  },
  {
   "cell_type": "code",
   "execution_count": 8,
   "metadata": {},
   "outputs": [
    {
     "name": "stdout",
     "output_type": "stream",
     "text": [
      "Enter the character: a\n",
      "a is a vowel \n"
     ]
    }
   ],
   "source": [
    "def vowel(char):\n",
    "    if(len(char)>1):\n",
    "        return False\n",
    "    if char.lower()=='a' or char.lower()=='e' or char.lower()=='i' or char.lower()=='o' or char.lower=='u':\n",
    "        return True\n",
    "    else:\n",
    "        return False\n",
    "a=str(input(\"Enter the character: \"))\n",
    "if(vowel(a)):\n",
    "    print(\"%s is a vowel \"%(a))\n",
    "else:\n",
    "    print(\"%s is not a vowel\"%(a))"
   ]
  },
  {
   "cell_type": "code",
   "execution_count": null,
   "metadata": {},
   "outputs": [],
   "source": []
  }
 ],
 "metadata": {
  "kernelspec": {
   "display_name": "Python 3",
   "language": "python",
   "name": "python3"
  },
  "language_info": {
   "codemirror_mode": {
    "name": "ipython",
    "version": 3
   },
   "file_extension": ".py",
   "mimetype": "text/x-python",
   "name": "python",
   "nbconvert_exporter": "python",
   "pygments_lexer": "ipython3",
   "version": "3.8.3"
  }
 },
 "nbformat": 4,
 "nbformat_minor": 4
}
